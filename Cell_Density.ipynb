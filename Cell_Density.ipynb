{
  "cells": [
    {
      "cell_type": "markdown",
      "metadata": {
        "id": "view-in-github",
        "colab_type": "text"
      },
      "source": [
        "<a href=\"https://colab.research.google.com/github/nairsatish/8001-related/blob/main/Cell_Density.ipynb\" target=\"_parent\"><img src=\"https://colab.research.google.com/assets/colab-badge.svg\" alt=\"Open In Colab\"/></a>"
      ]
    },
    {
      "cell_type": "markdown",
      "metadata": {
        "id": "14S2viJDn2SL"
      },
      "source": [
        "## This notebook was created to help with connection info when making network models\n",
        "### Given a volume of cells researchers report cell connections in a few different methods this notebook was made to help find the correct number of connections a cell should get\n",
        "\n",
        "## If you just want to check how to have proper connectivity then skip the first things"
      ]
    },
    {
      "cell_type": "markdown",
      "metadata": {
        "id": "zaTxczhdn2SN"
      },
      "source": [
        "### First we need to figure out the cell density of a 300um sphere in our network. We do this because it is known the a cell can normally only connect to another cell a max distance of 300um. For the amygdala you have around 72000 cells in a 1400um^3 area (2,744,000,000 um volume)"
      ]
    },
    {
      "cell_type": "code",
      "execution_count": null,
      "metadata": {
        "id": "F-vE0g2Qn2SN",
        "outputId": "46e52e4b-d042-4638-d726-a63f4e4c07cd",
        "colab": {
          "referenced_widgets": [
            "e1ba3b5d252641b2b1ee44347a22411a"
          ]
        }
      },
      "outputs": [
        {
          "data": {
            "application/vnd.jupyter.widget-view+json": {
              "model_id": "e1ba3b5d252641b2b1ee44347a22411a",
              "version_major": 2,
              "version_minor": 0
            },
            "text/plain": [
              "HBox(children=(FloatText(value=72000.0, description='Cell number:', layout=Layout(height='40px', width='auto')…"
            ]
          },
          "metadata": {},
          "output_type": "display_data"
        },
        {
          "name": "stdout",
          "output_type": "stream",
          "text": [
            "Total cell count in 300um sphere is 2967\n"
          ]
        }
      ],
      "source": [
        "import numpy as np\n",
        "import ipywidgets as widgets\n",
        "from ipywidgets import HBox,VBox\n",
        "from IPython.display import display\n",
        "layout = widgets.Layout(width='auto', height='40px') #set width and height\n",
        "\n",
        "volume_of_sphere = ((4/3)*(np.pi)*(300**3)) # eq for volume of a sphere\n",
        "total_cell_number = widgets.FloatText(value=72000,description='Cell number:',disabled=False, display='flex',flex_flow='column',align_items='stretch',layout = layout)\n",
        "total_network_size = widgets.FloatText(value=2744000000,description='Volume (um):',disabled=False,display='flex',flex_flow='column',align_items='stretch',layout = layout)\n",
        "do_math = widgets.Button(description=\"Calculate\",icon='history',button_style='primary',layout = layout)\n",
        "\n",
        "def find_cell_number(btn):\n",
        "    global cell_count_in_sphere,PN_A,PN_C,PN,PV,SOM\n",
        "    cell_count_in_sphere = int((total_cell_number.value/(total_network_size.value)*volume_of_sphere))\n",
        "    print(\"Total cell count in 300um sphere is\",cell_count_in_sphere)\n",
        "    # cell amounts based off biology data\n",
        "    PN_A = int(cell_count_in_sphere * 0.569)\n",
        "    PN_C = int(cell_count_in_sphere * 0.231)\n",
        "    PN = PN_A + PN_C\n",
        "    PV = int(cell_count_in_sphere * 0.1)\n",
        "    SOM = int(cell_count_in_sphere * 0.1)\n",
        "\n",
        "ui = HBox([total_cell_number,total_network_size,do_math])\n",
        "cell_count_in_sphere = do_math.on_click(find_cell_number)\n",
        "display(ui)\n",
        "\n"
      ]
    },
    {
      "cell_type": "markdown",
      "metadata": {
        "id": "kBZ1jLLon2SP"
      },
      "source": [
        "### Next we will compute a Gaussian function which we will later optimize. A Guassian function has a P_max and sigma value which together make a bell curve. For more information about this check out the BMTK paper https://www.biorxiv.org/content/10.1101/2021.03.31.437553v2.full"
      ]
    },
    {
      "cell_type": "code",
      "execution_count": null,
      "metadata": {
        "id": "fSbIpEbgn2SQ",
        "outputId": "6e8b405d-4bed-42cd-dac7-1edca43acddf"
      },
      "outputs": [
        {
          "data": {
            "image/png": "[encoded data removed]",
            "text/plain": [
              "<Figure size 640x480 with 1 Axes>"
            ]
          },
          "metadata": {},
          "output_type": "display_data"
        }
      ],
      "source": [
        "import matplotlib.pyplot as plt\n",
        "%matplotlib inline\n",
        "\n",
        "#plots a graph of the gaus\n",
        "distance = np.linspace(0,300,300) # unit is um\n",
        "\n",
        "def gaus_connection(distance, p_max=0.15, sigma=95.98): # p_max, and sigma are examples from bmtk paper will need to change\n",
        "    top = (distance) ** 2\n",
        "    bottom = 2 * (sigma ** 2)\n",
        "    prob = p_max * np.exp(-1*(top/bottom))\n",
        "    return prob\n",
        "\n",
        "prob = []\n",
        "for i in range(len(distance)):\n",
        "    p = gaus_connection(distance[i])\n",
        "    prob.append(p)\n",
        "\n",
        "plt.xlabel(\"distance in um\")\n",
        "plt.ylabel(\"probabilty of making a connection\")\n",
        "plt.scatter(distance,prob)\n",
        "plt.show()"
      ]
    },
    {
      "cell_type": "markdown",
      "metadata": {
        "id": "WGUd4-2rn2SQ"
      },
      "source": [
        "### Next to figure out how many connections we expect from this function we will do some math! This example code uses the curve in the above graph. This math was checked by the 8001 class so I am fairly confident that the math is correct."
      ]
    },
    {
      "cell_type": "code",
      "execution_count": null,
      "metadata": {
        "id": "2UHFZED6n2SQ",
        "outputId": "830f9142-fca8-44a0-9cbc-7cfa036bd231",
        "colab": {
          "referenced_widgets": [
            "6a61aa5d7840481686258c4cd0b84772"
          ]
        }
      },
      "outputs": [
        {
          "data": {
            "application/vnd.jupyter.widget-view+json": {
              "model_id": "6a61aa5d7840481686258c4cd0b84772",
              "version_major": 2,
              "version_minor": 0
            },
            "text/plain": [
              "VBox(children=(HBox(children=(Button(button_style='primary', description='PN_A', icon='history', layout=Layout…"
            ]
          },
          "metadata": {},
          "output_type": "display_data"
        },
        {
          "name": "stdout",
          "output_type": "stream",
          "text": [
            "Doing math for PN_A cell\n",
            "The total number of connections made with a cell density of 1688 in a 300 um sphere to a single cell in the middle of the sphere is 30\n"
          ]
        }
      ],
      "source": [
        "import scipy.integrate as intergrate\n",
        "\n",
        "# Total # of cells of type B connecting to a cell of Type A\n",
        "# at the middle of the sphere = Integ prob of connection of A to B x 4* pi* r2 dr) from 0 to 300 um.\n",
        "def integrand(x,cell_type_density_in_sphere):\n",
        "    p = gaus_connection(x)\n",
        "    surface_area = (4 * np.pi * (x**2))\n",
        "    V = ((4/3)*(np.pi)*(300**3))\n",
        "    I = p * (surface_area * (cell_type_density_in_sphere/(V)))\n",
        "    return I\n",
        "\n",
        "def calculate_intergal_PN_A(btn):\n",
        "    print(\"Doing math for PN_A cell\")\n",
        "    cell_type_density_in_sphere = PN_A #\n",
        "    num, error = intergrate.quad(integrand, 0, 300,args=(cell_type_density_in_sphere))\n",
        "    print(\"The total number of connections made with a cell density of %d in a 300 um sphere to a single cell in the middle \"\n",
        "            \"of the sphere is %d\" %(cell_type_density_in_sphere, num))\n",
        "def calculate_intergal_PN_C(btn):\n",
        "    print(\"Doing math for PN_C cell\")\n",
        "    cell_type_density_in_sphere = PN_C #\n",
        "    num, error = intergrate.quad(integrand, 0, 300,args=(cell_type_density_in_sphere))\n",
        "    print(\"The total number of connections made with a cell density of %d in a 300 um sphere to a single cell in the middle \"\n",
        "            \"of the sphere is %d\" %(cell_type_density_in_sphere, num))\n",
        "def calculate_intergal_PV(btn):\n",
        "    print(\"Doing math for PV cell\")\n",
        "    cell_type_density_in_sphere = PV #\n",
        "    num, error = intergrate.quad(integrand, 0, 300,args=(cell_type_density_in_sphere))\n",
        "    print(\"The total number of connections made with a cell density of %d in a 300 um sphere to a single cell in the middle \"\n",
        "            \"of the sphere is %d\" %(cell_type_density_in_sphere, num))\n",
        "def calculate_intergal_SOM(btn):\n",
        "    print(\"Doing math for SOM cell\")\n",
        "    cell_type_density_in_sphere = SOM #\n",
        "    num, error = intergrate.quad(integrand, 0, 300,args=(cell_type_density_in_sphere))\n",
        "    print(\"The total number of connections made with a cell density of %d in a 300 um sphere to a single cell in the middle \"\n",
        "            \"of the sphere is %d\" %(cell_type_density_in_sphere, num))\n",
        "\n",
        "do_math_PN_A = widgets.Button(description=\"PN_A\",icon='history',button_style='primary',layout = layout)\n",
        "do_math_PN_C = widgets.Button(description=\"PN_C\",icon='history',button_style='primary',layout = layout)\n",
        "do_math_PV = widgets.Button(description=\"PV\",icon='history',button_style='primary',layout = layout)\n",
        "do_math_SOM = widgets.Button(description=\"SOM\",icon='history',button_style='primary',layout = layout)\n",
        "\n",
        "do_math_PN_A.on_click(calculate_intergal_PN_A)\n",
        "do_math_PN_C.on_click(calculate_intergal_PN_C)\n",
        "do_math_PV.on_click(calculate_intergal_PV)\n",
        "do_math_SOM.on_click(calculate_intergal_SOM)\n",
        "\n",
        "ui = VBox([HBox([do_math_PN_A,do_math_PN_C]), HBox([do_math_PV,do_math_SOM])])\n",
        "display(ui)\n"
      ]
    },
    {
      "cell_type": "markdown",
      "metadata": {
        "id": "vNL22R0cn2SR"
      },
      "source": [
        "### Now lets say you have data that is given in percent connectivity. You need to find a gaussian function that gives you a the same level of connectivity as that precent given.To do this we first come up with a function that mimics the percent connectivity. There is most likely a way to solve for this, but instead we just guess and check function using the slider below."
      ]
    },
    {
      "cell_type": "code",
      "execution_count": null,
      "metadata": {
        "id": "2Nwv1z87n2SR",
        "outputId": "3aad5dd8-20a8-4038-be10-fc829b205dc9",
        "colab": {
          "referenced_widgets": [
            "f11caa5980c647ee9ee214d7c0d8ec51"
          ]
        }
      },
      "outputs": [
        {
          "data": {
            "application/vnd.jupyter.widget-view+json": {
              "model_id": "f11caa5980c647ee9ee214d7c0d8ec51",
              "version_major": 2,
              "version_minor": 0
            },
            "text/plain": [
              "VBox(children=(HBox(children=(FloatSlider(value=0.15, continuous_update=False, description='P_max:', max=1.0, …"
            ]
          },
          "metadata": {},
          "output_type": "display_data"
        },
        {
          "name": "stdout",
          "output_type": "stream",
          "text": [
            "Doing math for PN_A cell\n",
            "This Gaussian function mimics percent connecitivy of 5.94 precent\n",
            "With that new Gaussian function you would expect to have 29 connections\n"
          ]
        }
      ],
      "source": [
        "P_max = widgets.FloatSlider(value=0.15,min=0,max=1,step=0.01,description='P_max:',disabled=False,continuous_update=False,orientation='horizontal',readout=True,readout_format='.2f')\n",
        "Sigma = widgets.FloatSlider(value=95,min=0,max=200,step=5,description='Sigma:',disabled=False,continuous_update=False,orientation='horizontal',readout=True,readout_format='.1f')\n",
        "\n",
        "\n",
        "def calculate_intergal_PN_A(btn):\n",
        "    def gaus_connection(distance, p_max=P_max.value, sigma=Sigma.value):\n",
        "        top = (distance) ** 2\n",
        "        bottom = 2 * (sigma ** 2)\n",
        "        prob = p_max * np.exp(-1*(top/bottom))\n",
        "        return prob\n",
        "    def integrand(x,cell_type_density_in_sphere):\n",
        "        p = gaus_connection(x)\n",
        "        surface_area = (4 * np.pi * (x**2))\n",
        "        V = ((4/3)*(np.pi)*(300**3))\n",
        "        I = p * (surface_area * (cell_type_density_in_sphere/(V)))\n",
        "        return I\n",
        "\n",
        "    def integrand2(x):\n",
        "        p = gaus_connection(x)\n",
        "        output = p/300\n",
        "        return output\n",
        "    print(\"Doing math for PN_A cell\")\n",
        "    cell_type_density_in_sphere = PN_A #\n",
        "    num, error = intergrate.quad(integrand, 0, 300,args=(cell_type_density_in_sphere))\n",
        "    num2, error = intergrate.quad(integrand2, 0, 300)\n",
        "    print(\"This Gaussian function mimics percent connecitivy of %.2f precent\" %(num2*100))\n",
        "    print(\"With that new Gaussian function you would expect to have %d connections\"%(num))\n",
        "\n",
        "def calculate_intergal_PN_C(btn):\n",
        "    def gaus_connection(distance, p_max=P_max.value, sigma=Sigma.value):\n",
        "        top = (distance) ** 2\n",
        "        bottom = 2 * (sigma ** 2)\n",
        "        prob = p_max * np.exp(-1*(top/bottom))\n",
        "        return prob\n",
        "    def integrand(x,cell_type_density_in_sphere):\n",
        "        p = gaus_connection(x)\n",
        "        surface_area = (4 * np.pi * (x**2))\n",
        "        V = ((4/3)*(np.pi)*(300**3))\n",
        "        I = p * (surface_area * (cell_type_density_in_sphere/(V)))\n",
        "        return I\n",
        "\n",
        "    def integrand2(x):\n",
        "        p = gaus_connection(x)\n",
        "        output = p/300\n",
        "        return output\n",
        "    print(\"Doing math for PN_C cell\")\n",
        "    cell_type_density_in_sphere = PN_C #\n",
        "    num, error = intergrate.quad(integrand, 0, 300,args=(cell_type_density_in_sphere))\n",
        "    num2, error = intergrate.quad(integrand2, 0, 300)\n",
        "    print(\"This Gaussian function mimics percent connecitivy of %.2f precent\" %(num2*100))\n",
        "    print(\"With that new Gaussian function you would expect to have %d connections\"%(num))\n",
        "\n",
        "def calculate_intergal_PV(btn):\n",
        "    def gaus_connection(distance, p_max=P_max.value, sigma=Sigma.value):\n",
        "        top = (distance) ** 2\n",
        "        bottom = 2 * (sigma ** 2)\n",
        "        prob = p_max * np.exp(-1*(top/bottom))\n",
        "        return prob\n",
        "    def integrand(x,cell_type_density_in_sphere):\n",
        "        p = gaus_connection(x)\n",
        "        surface_area = (4 * np.pi * (x**2))\n",
        "        V = ((4/3)*(np.pi)*(300**3))\n",
        "        I = p * (surface_area * (cell_type_density_in_sphere/(V)))\n",
        "        return I\n",
        "\n",
        "    def integrand2(x):\n",
        "        p = gaus_connection(x)\n",
        "        output = p/300\n",
        "        return output\n",
        "    print(\"Doing math for PV cell\")\n",
        "    cell_type_density_in_sphere = PV # means looking at FSI-cell connection\n",
        "    num, error = intergrate.quad(integrand, 0, 300,args=(cell_type_density_in_sphere))\n",
        "    num2, error = intergrate.quad(integrand2, 0, 300)\n",
        "    print(\"This Gaussian function mimics percent connecitivy of %.2f precent\" %(num2*100))\n",
        "    print(\"With that new Gaussian function you would expect to have %d connections\"%(num))\n",
        "def calculate_intergal_SOM(btn):\n",
        "    def gaus_connection(distance, p_max=P_max.value, sigma=Sigma.value):\n",
        "        top = (distance) ** 2\n",
        "        bottom = 2 * (sigma ** 2)\n",
        "        prob = p_max * np.exp(-1*(top/bottom))\n",
        "        return prob\n",
        "    def integrand(x,cell_type_density_in_sphere):\n",
        "        p = gaus_connection(x)\n",
        "        surface_area = (4 * np.pi * (x**2))\n",
        "        V = ((4/3)*(np.pi)*(300**3))\n",
        "        I = p * (surface_area * (cell_type_density_in_sphere/(V)))\n",
        "        return I\n",
        "\n",
        "    def integrand2(x):\n",
        "        p = gaus_connection(x)\n",
        "        output = p/300\n",
        "        return output\n",
        "    print(\"Doing math for SOM cell\")\n",
        "    cell_type_density_in_sphere = SOM #\n",
        "    num, error = intergrate.quad(integrand, 0, 300,args=(cell_type_density_in_sphere))\n",
        "    num2, error = intergrate.quad(integrand2, 0, 300)\n",
        "    print(\"This Gaussian function mimics percent connecitivy of %.2f precent\" %(num2*100))\n",
        "    print(\"With that new Gaussian function you would expect to have %d connections\"%(num))\n",
        "\n",
        "do_math_PN_A = widgets.Button(description=\"PN_A\",icon='history',button_style='primary',layout = layout)\n",
        "do_math_PN_C = widgets.Button(description=\"PN_C\",icon='history',button_style='primary',layout = layout)\n",
        "do_math_PV = widgets.Button(description=\"PV\",icon='history',button_style='primary',layout = layout)\n",
        "do_math_SOM = widgets.Button(description=\"SOM\",icon='history',button_style='primary',layout = layout)\n",
        "\n",
        "do_math_PN_A.on_click(calculate_intergal_PN_A)\n",
        "do_math_PN_C.on_click(calculate_intergal_PN_C)\n",
        "do_math_PV.on_click(calculate_intergal_PV)\n",
        "do_math_SOM.on_click(calculate_intergal_SOM)\n",
        "\n",
        "ui = VBox([HBox([P_max,Sigma]),HBox([do_math_PN_A,do_math_PN_C]), HBox([do_math_PV,do_math_SOM])])\n",
        "display(ui)\n"
      ]
    },
    {
      "cell_type": "markdown",
      "metadata": {
        "id": "xyNrSxcon2SS"
      },
      "source": [
        "### Now once you know how many connections each cell recieves you then need to make sure your code matches the number\n",
        "\n",
        "#### Since this is just an example we will be using BMTK example templates so we dont have to mess with downloading other ones"
      ]
    },
    {
      "cell_type": "code",
      "execution_count": null,
      "metadata": {
        "id": "fzU6qLk6n2SS"
      },
      "outputs": [],
      "source": [
        "from bmtk.builder import NetworkBuilder\n",
        "from bmtk.builder.auxi.node_params import positions_list, xiter_random\n",
        "from bmtk.utils.sim_setup import build_env_bionet\n",
        "import numpy as np\n",
        "import os\n",
        "\n",
        "try:\n",
        "    os.removedirs(\"network\")\n",
        "except:\n",
        "    pass\n",
        "\n",
        "\n",
        "net = NetworkBuilder(\"Test_net\")\n",
        "\n",
        "net.add_nodes(\n",
        "    N=800, pop_name='Pyr',\n",
        "    ei='e',\n",
        "    model_type='biophysical',\n",
        "    model_template='ctdb:Biophys1.hoc',\n",
        "    model_processing='aibs_perisomatic',\n",
        "    dynamics_params='472363762_fit.json',\n",
        "    morphology='Scnn1a_473845048_m.swc'\n",
        ")\n",
        "\n",
        "net.add_nodes(\n",
        "    N=200, pop_name='PV',\n",
        "    model_type='biophysical',\n",
        "    model_template='ctdb:Biophys1.hoc',\n",
        "    model_processing='aibs_perisomatic',\n",
        "    dynamics_params='472912177_fit.json',\n",
        "    morphology='Pvalb_470522102_m.swc'\n",
        ")\n",
        "\n",
        "def connecting_function(source, target, prob):\n",
        "    sid = source.node_id\n",
        "    tid = target.node_id\n",
        "    if np.random.uniform() > prob:\n",
        "        return 0\n",
        "    else:\n",
        "        return 1\n",
        "\n",
        "conn = net.add_edges(source={'pop_name': 'Pyr'}, target={'pop_name': 'Pyr'},\n",
        "                     iterator='one_to_one',\n",
        "                     connection_rule=connecting_function,\n",
        "                     connection_params={'prob': 0.02},\n",
        "                     syn_weight=1,\n",
        "                     delay=0.1,\n",
        "                     dynamics_params='AMPA_ExcToExc.json',\n",
        "                     model_template='exp2syn',\n",
        "                     distance_range=[-10000.0, 10000.0],\n",
        "                     target_sections=['apical'])\n",
        "\n",
        "conn = net.add_edges(source={'pop_name': 'Pyr'}, target={'pop_name': 'PV'},\n",
        "                     iterator='one_to_one',\n",
        "                     connection_rule=connecting_function,\n",
        "                     connection_params={'prob': 0.20},\n",
        "                     syn_weight=1,\n",
        "                     delay=0.1,\n",
        "                     dynamics_params='AMPA_ExcToExc.json',\n",
        "                     model_template='exp2syn',\n",
        "                     distance_range=[-10000.0, 10000.0],\n",
        "                     target_sections=['apical'])\n",
        "\n",
        "conn = net.add_edges(source={'pop_name': 'PV'}, target={'pop_name': 'Pyr'},\n",
        "                     iterator='one_to_one',\n",
        "                     connection_rule=connecting_function,\n",
        "                     connection_params={'prob': 0.20},\n",
        "                     syn_weight=1,\n",
        "                     delay=0.1,\n",
        "                     dynamics_params='AMPA_ExcToExc.json',\n",
        "                     model_template='exp2syn',\n",
        "                     distance_range=[-10000.0, 10000.0],\n",
        "                     target_sections=['apical'])\n",
        "\n",
        "conn = net.add_edges(source={'pop_name': 'PV'}, target={'pop_name': 'PV'},\n",
        "                     iterator='one_to_one',\n",
        "                     connection_rule=connecting_function,\n",
        "                     connection_params={'prob': 0.20},\n",
        "                     syn_weight=1,\n",
        "                     delay=0.1,\n",
        "                     dynamics_params='AMPA_ExcToExc.json',\n",
        "                     model_template='exp2syn',\n",
        "                     distance_range=[-10000.0, 10000.0],\n",
        "                     target_sections=['apical'])\n",
        "\n",
        "net.build()\n",
        "net.save(output_dir='network')\n",
        "\n",
        "build_env_bionet(base_dir='./',\n",
        "                network_dir='./network',\n",
        "                config_file='config.json',\n",
        "                tstop=100, dt=0.1,\n",
        "                report_vars=['v'],\n",
        "                components_dir='biophys_components',\n",
        "                v_init=-70,\n",
        "                compile_mechanisms=False,\n",
        "                overwrite_config=True)\n",
        "\n",
        "\n",
        "\n"
      ]
    },
    {
      "cell_type": "code",
      "execution_count": null,
      "metadata": {
        "id": "3nILVAWWn2ST",
        "outputId": "ecf5b142-8339-4755-f779-0c22b3c9556b"
      },
      "outputs": [
        {
          "data": {
            "image/png": "[encoded data removed]",
            "text/plain": [
              "<Figure size 200x200 with 1 Axes>"
            ]
          },
          "metadata": {},
          "output_type": "display_data"
        }
      ],
      "source": [
        "from bmtool import bmplot\n",
        "import matplotlib.pyplot as plt\n",
        "import warnings\n",
        "\n",
        "warnings.simplefilter(action='ignore', category=UserWarning)\n",
        "\n",
        "\n",
        "bmplot.convergence_connection_matrix(config=\"config.json\",sources='Test_net',targets='Test_net', sids=\"pop_name\", tids=\"pop_name\",no_prepend_pop=True)\n",
        "plt.show()"
      ]
    },
    {
      "cell_type": "markdown",
      "metadata": {
        "id": "Ae-LB5Nln2ST"
      },
      "source": [
        "# When building a homogenous network you can first build the network at a small scale such as 1000 cellls like shown above. Once you are happy with your convergence you can then take the connection prob and divide it by the scale of the network. So that the connection prob is half at 2000 cells and so on. This will allow the user to build any size homogenous network and always have the same connvergence.\n",
        "\n",
        "# For Distance depended models you should be able to use the Gaussian testing code above making sure that the cell types each have the right density and convergence. You can then use bmtools to test convergence like above."
      ]
    },
    {
      "cell_type": "code",
      "execution_count": null,
      "metadata": {
        "id": "Jumc8lIqn2ST"
      },
      "outputs": [],
      "source": []
    }
  ],
  "metadata": {
    "colab": {
      "provenance": [],
      "include_colab_link": true
    },
    "kernelspec": {
      "display_name": "Python 3 (ipykernel)",
      "language": "python",
      "name": "python3"
    },
    "language_info": {
      "codemirror_mode": {
        "name": "ipython",
        "version": 3
      },
      "file_extension": ".py",
      "mimetype": "text/x-python",
      "name": "python",
      "nbconvert_exporter": "python",
      "pygments_lexer": "ipython3",
      "version": "3.8.16"
    },
    "vscode": {
      "interpreter": {
        "hash": "c28eacaa9a6983ce4c6a72cfa60e2b516242ce80b1b970d2aedf082961b67733"
      }
    }
  },
  "nbformat": 4,
  "nbformat_minor": 0
}