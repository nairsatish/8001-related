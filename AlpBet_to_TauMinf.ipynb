{
  "nbformat": 4,
  "nbformat_minor": 0,
  "metadata": {
    "colab": {
      "provenance": [],
      "authorship_tag": "ABX9TyN1zgpbPH51YDMbPtVkmzIp",
      "include_colab_link": true
    },
    "kernelspec": {
      "name": "python3",
      "display_name": "Python 3"
    },
    "language_info": {
      "name": "python"
    }
  },
  "cells": [
    {
      "cell_type": "markdown",
      "metadata": {
        "id": "view-in-github",
        "colab_type": "text"
      },
      "source": [
        "<a href=\"https://colab.research.google.com/github/nairsatish/8001-related/blob/main/AlpBet_to_TauMinf.ipynb\" target=\"_parent\"><img src=\"https://colab.research.google.com/assets/colab-badge.svg\" alt=\"Open In Colab\"/></a>"
      ]
    },
    {
      "cell_type": "markdown",
      "source": [
        "Easily convert from alpha/beta to tau/inf"
      ],
      "metadata": {
        "id": "Hhiw_5ec9dJS"
      }
    },
    {
      "cell_type": "code",
      "source": [
        "!pip install neuroneq"
      ],
      "metadata": {
        "colab": {
          "base_uri": "https://localhost:8080/"
        },
        "id": "FLN5cHno-jvT",
        "outputId": "54d56c4a-ab0a-4a15-94c7-cc7179069dd4"
      },
      "execution_count": 4,
      "outputs": [
        {
          "output_type": "stream",
          "name": "stdout",
          "text": [
            "Looking in indexes: https://pypi.org/simple, https://us-python.pkg.dev/colab-wheels/public/simple/\n",
            "Requirement already satisfied: neuroneq in /usr/local/lib/python3.10/dist-packages (0.0.6)\n",
            "Requirement already satisfied: click in /usr/local/lib/python3.10/dist-packages (from neuroneq) (8.1.3)\n",
            "Requirement already satisfied: matplotlib in /usr/local/lib/python3.10/dist-packages (from neuroneq) (3.7.1)\n",
            "Requirement already satisfied: numpy in /usr/local/lib/python3.10/dist-packages (from neuroneq) (1.22.4)\n",
            "Requirement already satisfied: scipy in /usr/local/lib/python3.10/dist-packages (from neuroneq) (1.10.1)\n",
            "Requirement already satisfied: sympy in /usr/local/lib/python3.10/dist-packages (from neuroneq) (1.11.1)\n",
            "Requirement already satisfied: contourpy>=1.0.1 in /usr/local/lib/python3.10/dist-packages (from matplotlib->neuroneq) (1.1.0)\n",
            "Requirement already satisfied: cycler>=0.10 in /usr/local/lib/python3.10/dist-packages (from matplotlib->neuroneq) (0.11.0)\n",
            "Requirement already satisfied: fonttools>=4.22.0 in /usr/local/lib/python3.10/dist-packages (from matplotlib->neuroneq) (4.40.0)\n",
            "Requirement already satisfied: kiwisolver>=1.0.1 in /usr/local/lib/python3.10/dist-packages (from matplotlib->neuroneq) (1.4.4)\n",
            "Requirement already satisfied: packaging>=20.0 in /usr/local/lib/python3.10/dist-packages (from matplotlib->neuroneq) (23.1)\n",
            "Requirement already satisfied: pillow>=6.2.0 in /usr/local/lib/python3.10/dist-packages (from matplotlib->neuroneq) (8.4.0)\n",
            "Requirement already satisfied: pyparsing>=2.3.1 in /usr/local/lib/python3.10/dist-packages (from matplotlib->neuroneq) (3.1.0)\n",
            "Requirement already satisfied: python-dateutil>=2.7 in /usr/local/lib/python3.10/dist-packages (from matplotlib->neuroneq) (2.8.2)\n",
            "Requirement already satisfied: mpmath>=0.19 in /usr/local/lib/python3.10/dist-packages (from sympy->neuroneq) (1.3.0)\n",
            "Requirement already satisfied: six>=1.5 in /usr/local/lib/python3.10/dist-packages (from python-dateutil>=2.7->matplotlib->neuroneq) (1.16.0)\n"
          ]
        }
      ]
    },
    {
      "cell_type": "code",
      "source": [
        "import matplotlib.pyplot as plt\n",
        "from neuroneq import ab2inf_tau, fit_inf\n",
        "import numpy as np\n",
        "\n",
        "alpha = \"((v+45)/10)/(1-exp(-(v+45)/10))\"\n",
        "beta = \"4*exp(-(v+70)/18)\""
      ],
      "metadata": {
        "id": "m8HQ8TeZ9h06"
      },
      "execution_count": 5,
      "outputs": []
    },
    {
      "cell_type": "markdown",
      "source": [
        "convert to inf, tau"
      ],
      "metadata": {
        "id": "IIIosCd19kJ-"
      }
    },
    {
      "cell_type": "code",
      "source": [
        "inf, tau = ab2inf_tau(alpha,beta)"
      ],
      "metadata": {
        "id": "Ynj5ph1E9rTU"
      },
      "execution_count": 6,
      "outputs": []
    },
    {
      "cell_type": "markdown",
      "source": [
        "fit the equation to standard form"
      ],
      "metadata": {
        "id": "p3QHQX1Z9vTR"
      }
    },
    {
      "cell_type": "code",
      "source": [
        "fit_equation = fit_inf(inf)\n",
        "\n",
        "print(fit_equation)"
      ],
      "metadata": {
        "colab": {
          "base_uri": "https://localhost:8080/"
        },
        "id": "gvflhYPE9yfL",
        "outputId": "70b06a32-7aa0-40aa-88c2-2f701442403c"
      },
      "execution_count": 7,
      "outputs": [
        {
          "output_type": "stream",
          "name": "stdout",
          "text": [
            "1.0/(1.0+(exp((v+44.57)/(-9.55))))\n"
          ]
        }
      ]
    },
    {
      "cell_type": "markdown",
      "source": [
        "Plot"
      ],
      "metadata": {
        "id": "8tNeM5vD97Gb"
      }
    },
    {
      "cell_type": "code",
      "source": [
        "min_v, max_v = -100, 50\n",
        "v = np.linspace(float(min_v),float(max_v),2000)\n",
        "fit_equation_np = fit_equation.replace(\"exp(\",\"np.exp(\")\n",
        "y = eval(fit_equation_np)\n",
        "plt.plot(v, y, 'r-',label=\"fit\")\n",
        "plt.show()"
      ],
      "metadata": {
        "colab": {
          "base_uri": "https://localhost:8080/",
          "height": 430
        },
        "id": "FfVxZPxJ9-kk",
        "outputId": "83598413-c3d5-438f-8a08-3b09eed8c8ef"
      },
      "execution_count": 10,
      "outputs": [
        {
          "output_type": "display_data",
          "data": {
            "text/plain": [
              "<Figure size 640x480 with 1 Axes>"
            ],
            "image/png": "[encoded data removed]"
          },
          "metadata": {}
        }
      ]
    }
  ]
}