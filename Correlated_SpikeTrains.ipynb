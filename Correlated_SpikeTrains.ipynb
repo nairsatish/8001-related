import numpy as np
import scipy.signal as signal

# Set parameters
n_neurons = 100 # number of Poisson spike trains to generate
T = 1000 # total simulation time (ms)
dt = 1 # time step (ms)
mean_rate = 10 # mean firing rate of Poisson process (Hz)

# Generate uncorrelated Poisson spike trains
spikes = np.random.poisson(mean_rate*dt, size=(n_neurons, T//dt))

# Compute power spectral density of spike trains
f, psd = signal.welch(spikes, fs=1/dt, nperseg=T//dt, axis=1)

# Modify PSD to have 1/f correlation
psd *= f**(-1/2)

# Generate correlated Poisson spike trains by inverse Fourier transform
corr_spikes = np.real(np.fft.ifft(np.sqrt(psd)*np.exp(1j*np.random.uniform(0, 2*np.pi, size=psd.shape)), axis=1))

# Scale spike trains to have desired mean firing rate
corr_spikes *= mean_rate*dt/np.mean(np.sum(corr_spikes, axis=1))

