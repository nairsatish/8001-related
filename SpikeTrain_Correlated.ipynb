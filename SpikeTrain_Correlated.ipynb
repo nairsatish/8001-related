{
  "nbformat": 4,
  "nbformat_minor": 0,
  "metadata": {
    "colab": {
      "provenance": [],
      "authorship_tag": "ABX9TyOkGxJY0zqhDShMEEECx21z",
      "include_colab_link": true
    },
    "kernelspec": {
      "name": "python3",
      "display_name": "Python 3"
    },
    "language_info": {
      "name": "python"
    }
  },
  "cells": [
    {
      "cell_type": "markdown",
      "metadata": {
        "id": "view-in-github",
        "colab_type": "text"
      },
      "source": [
        "<a href=\"https://colab.research.google.com/github/nairsatish/8001-related/blob/main/SpikeTrain_Correlated.ipynb\" target=\"_parent\"><img src=\"https://colab.research.google.com/assets/colab-badge.svg\" alt=\"Open In Colab\"/></a>"
      ]
    },
    {
      "cell_type": "markdown",
      "source": [
        "Here are the general steps:\n",
        "Generate a sequence of uncorrelated Poisson spike trains with a desired mean firing rate.\n",
        "Compute the power spectral density (PSD) of the spike train sequence using a Fourier transform.\n",
        "Multiply the PSD by a 1/f power-law function. This can be done by raising the frequency axis to the power of -1/2.\n",
        "Take the inverse Fourier transform of the modified PSD to obtain a correlated Poisson spike train sequence."
      ],
      "metadata": {
        "id": "5lJCzUfRHhSy"
      }
    },
    {
      "cell_type": "code",
      "execution_count": 1,
      "metadata": {
        "colab": {
          "base_uri": "https://localhost:8080/"
        },
        "id": "xzm5DBlYGorm",
        "outputId": "e74c2208-4e5c-454d-896e-49f8fdf4d087"
      },
      "outputs": [
        {
          "output_type": "stream",
          "name": "stderr",
          "text": [
            "<ipython-input-1-13d531ac2ede>:17: RuntimeWarning: divide by zero encountered in power\n",
            "  psd *= f**(-1/2)\n"
          ]
        }
      ],
      "source": [
        "import numpy as np\n",
        "import scipy.signal as signal\n",
        "\n",
        "# Set parameters\n",
        "n_neurons = 100 # number of Poisson spike trains to generate\n",
        "T = 1000 # total simulation time (ms)\n",
        "dt = 1 # time step (ms)\n",
        "mean_rate = 10 # mean firing rate of Poisson process (Hz)\n",
        "\n",
        "# Generate uncorrelated Poisson spike trains\n",
        "spikes = np.random.poisson(mean_rate*dt, size=(n_neurons, T//dt))\n",
        "\n",
        "# Compute power spectral density of spike trains\n",
        "f, psd = signal.welch(spikes, fs=1/dt, nperseg=T//dt, axis=1)\n",
        "\n",
        "# Modify PSD to have 1/f correlation\n",
        "psd *= f**(-1/2)\n",
        "\n",
        "# Generate correlated Poisson spike trains by inverse Fourier transform\n",
        "corr_spikes = np.real(np.fft.ifft(np.sqrt(psd)*np.exp(1j*np.random.uniform(0, 2*np.pi, size=psd.shape)), axis=1))\n",
        "\n",
        "# Scale spike trains to have desired mean firing rate\n",
        "corr_spikes *= mean_rate*dt/np.mean(np.sum(corr_spikes, axis=1))\n",
        "\n"
      ]
    },
    {
      "cell_type": "markdown",
      "source": [
        "In this code, we first generate a sequence of uncorrelated Poisson spike trains using np.random.poisson(). We then compute the PSD of the spike train sequence using scipy.signal.welch(). We modify the PSD by multiplying it by a 1/f power-law function and then generate a correlated Poisson spike train sequence using the inverse Fourier transform. Finally, we scale the spike trains to have the desired mean firing rate."
      ],
      "metadata": {
        "id": "q4qBtyRRHn7U"
      }
    }
  ]
}